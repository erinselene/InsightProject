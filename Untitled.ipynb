{
 "cells": [
  {
   "cell_type": "code",
   "execution_count": 1,
   "metadata": {
    "collapsed": true
   },
   "outputs": [],
   "source": [
    "# Testing using pymysql with ipython"
   ]
  },
  {
   "cell_type": "code",
   "execution_count": 2,
   "metadata": {
    "collapsed": false
   },
   "outputs": [
    {
     "name": "stdout",
     "output_type": "stream",
     "text": [
      "(1, 'Jack London')\n",
      "(2, 'Honore de Balzac')\n",
      "(3, 'Lion Feuchtwanger')\n",
      "(4, 'Emile Zola')\n",
      "(5, 'Truman Capote')\n"
     ]
    }
   ],
   "source": [
    "import pymysql as mdb\n",
    "\n",
    "con = mdb.connect('localhost', 'root', 'reepicheep', 'testdb') #host, user, password, #database\n",
    "\n",
    "with con:\n",
    "   cur = con.cursor()\n",
    "   cur.execute(\"DROP TABLE IF EXISTS Writers\")\n",
    "   cur.execute(\"CREATE TABLE Writers(Id INT PRIMARY KEY AUTO_INCREMENT,Name VARCHAR(25))\")\n",
    "   cur.execute(\"INSERT INTO Writers(Name) VALUES('Jack London')\")\n",
    "   cur.execute(\"INSERT INTO Writers(Name) VALUES('Honore de Balzac')\")\n",
    "   cur.execute(\"INSERT INTO Writers(Name) VALUES('Lion Feuchtwanger')\")\n",
    "   cur.execute(\"INSERT INTO Writers(Name) VALUES('Emile Zola')\")\n",
    "   cur.execute(\"INSERT INTO Writers(Name) VALUES('Truman Capote')\")\n",
    "\n",
    "with con:\n",
    "   cur = con.cursor()\n",
    "   cur.execute(\"SELECT * FROM Writers\")\n",
    "   rows = cur.fetchall()\n",
    "   for row in rows:\n",
    "       print row"
   ]
  },
  {
   "cell_type": "code",
   "execution_count": null,
   "metadata": {
    "collapsed": true
   },
   "outputs": [],
   "source": []
  }
 ],
 "metadata": {
  "kernelspec": {
   "display_name": "Python 2",
   "language": "python",
   "name": "python2"
  },
  "language_info": {
   "codemirror_mode": {
    "name": "ipython",
    "version": 2
   },
   "file_extension": ".py",
   "mimetype": "text/x-python",
   "name": "python",
   "nbconvert_exporter": "python",
   "pygments_lexer": "ipython2",
   "version": "2.7.10"
  }
 },
 "nbformat": 4,
 "nbformat_minor": 0
}
