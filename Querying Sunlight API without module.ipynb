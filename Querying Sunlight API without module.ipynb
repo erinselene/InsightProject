{
 "cells": [
  {
   "cell_type": "code",
   "execution_count": 1,
   "metadata": {
    "collapsed": true
   },
   "outputs": [],
   "source": [
    "import requests\n",
    "import pprint\n",
    "import json"
   ]
  },
  {
   "cell_type": "code",
   "execution_count": 2,
   "metadata": {
    "collapsed": false
   },
   "outputs": [
    {
     "data": {
      "text/plain": [
       "' The endpoint (line 8) usually determines what type of data you will get back, while the query parameters (line 4) act as \\nfilters on that data. '"
      ]
     },
     "execution_count": 2,
     "metadata": {},
     "output_type": "execute_result"
    }
   ],
   "source": [
    "\"\"\" The endpoint (line 8) usually determines what type of data you will get back, while the query parameters (line 4) act as \n",
    "filters on that data. \"\"\"\n",
    "\n",
    "# What I want is a pd dataframe with cols Bill_id, Nays, Yeas, NoVotes, Date. \n",
    "# And then I'll pull bill info for other columns from other data.\n",
    "# Want to specify \"vote_type\": \"passage\" (field)\n",
    "# \"question\": \"On Motion to Suspend the Rules and Pass -- H.R. 41 -- To ... (So, question has the bill ID?)\n",
    "# \"voted_at\": for timestamp\n",
    "# \"chamber\": \"house\" \n",
    "# bill_id\n",
    "# bill"
   ]
  },
  {
   "cell_type": "code",
   "execution_count": 3,
   "metadata": {
    "collapsed": true
   },
   "outputs": [],
   "source": [
    "query_params = {'apikey': 'dacd349b474440e1937181079fdf1619', \n",
    "                'fields':'chamber,bill_id,breakdown.total',\n",
    "               'per_page':30} \n",
    "endpoint = 'https://congress.api.sunlightfoundation.com/votes'  #?fields=bill_id,breakdown.total' # For querying federal bills\n",
    "#endpoint = 'http://openstates.org/api/v1/bills/ca/20092010/AB%20667/'  # For querying bills from OpenStates. Use metadata though.\n",
    "#endpoint = 'https://congress.api.sunlightfoundation.com/bills?bill_type=hr&congress=112' # For querying federal bills"
   ]
  },
  {
   "cell_type": "code",
   "execution_count": 4,
   "metadata": {
    "collapsed": true
   },
   "outputs": [],
   "source": [
    "response = requests.get(endpoint, params=query_params)\n",
    "data = response.json()"
   ]
  },
  {
   "cell_type": "code",
   "execution_count": 5,
   "metadata": {
    "collapsed": false
   },
   "outputs": [
    {
     "name": "stdout",
     "output_type": "stream",
     "text": [
      "{u'count': 6798,\n",
      " u'page': {u'count': 30, u'page': 1, u'per_page': 30},\n",
      " u'results': [{u'bill_id': u'hr2578-114',\n",
      "               u'breakdown': {u'total': {u'Nay': 132,\n",
      "                                         u'Not Voting': 11,\n",
      "                                         u'Present': 0,\n",
      "                                         u'Yea': 289}},\n",
      "               u'chamber': u'house'},\n",
      "              {u'bill_id': u'hr2578-114',\n",
      "               u'breakdown': {u'total': {u'Nay': 171,\n",
      "                                         u'Not Voting': 11,\n",
      "                                         u'Present': 0,\n",
      "                                         u'Yea': 250}},\n",
      "               u'chamber': u'house'},\n",
      "              {u'bill_id': u'hr2578-114',\n",
      "               u'breakdown': {u'total': {u'Nay': 43,\n",
      "                                         u'Not Voting': 6,\n",
      "                                         u'Present': 0,\n",
      "                                         u'Yea': 383}},\n",
      "               u'chamber': u'house'},\n",
      "              {u'bill_id': u'hr2578-114',\n",
      "               u'breakdown': {u'total': {u'Nay': 190,\n",
      "                                         u'Not Voting': 6,\n",
      "                                         u'Present': 0,\n",
      "                                         u'Yea': 236}},\n",
      "               u'chamber': u'house'},\n",
      "              {u'bill_id': u'hr2578-114',\n",
      "               u'breakdown': {u'total': {u'Nay': 290,\n",
      "                                         u'Not Voting': 8,\n",
      "                                         u'Present': 0,\n",
      "                                         u'Yea': 134}},\n",
      "               u'chamber': u'house'},\n",
      "              {u'bill_id': u'hr2578-114',\n",
      "               u'breakdown': {u'total': {u'Nay': 204,\n",
      "                                         u'Not Voting': 6,\n",
      "                                         u'Present': 0,\n",
      "                                         u'Yea': 222}},\n",
      "               u'chamber': u'house'},\n",
      "              {u'bill_id': u'hr2578-114',\n",
      "               u'breakdown': {u'total': {u'Nay': 198,\n",
      "                                         u'Not Voting': 7,\n",
      "                                         u'Present': 0,\n",
      "                                         u'Yea': 227}},\n",
      "               u'chamber': u'house'},\n",
      "              {u'bill_id': u'hr2578-114',\n",
      "               u'breakdown': {u'total': {u'Nay': 181,\n",
      "                                         u'Not Voting': 6,\n",
      "                                         u'Present': 0,\n",
      "                                         u'Yea': 245}},\n",
      "               u'chamber': u'house'},\n",
      "              {u'bill_id': u'hr2578-114',\n",
      "               u'breakdown': {u'total': {u'Nay': 240,\n",
      "                                         u'Not Voting': 8,\n",
      "                                         u'Present': 0,\n",
      "                                         u'Yea': 184}},\n",
      "               u'chamber': u'house'},\n",
      "              {u'bill_id': u'hr2578-114',\n",
      "               u'breakdown': {u'total': {u'Nay': 183,\n",
      "                                         u'Not Voting': 7,\n",
      "                                         u'Present': 0,\n",
      "                                         u'Yea': 242}},\n",
      "               u'chamber': u'house'},\n",
      "              {u'bill_id': u'hr2578-114',\n",
      "               u'breakdown': {u'total': {u'Nay': 257,\n",
      "                                         u'Not Voting': 7,\n",
      "                                         u'Present': 0,\n",
      "                                         u'Yea': 168}},\n",
      "               u'chamber': u'house'},\n",
      "              {u'bill_id': u'hr2578-114',\n",
      "               u'breakdown': {u'total': {u'Nay': 232,\n",
      "                                         u'Not Voting': 5,\n",
      "                                         u'Present': 0,\n",
      "                                         u'Yea': 195}},\n",
      "               u'chamber': u'house'},\n",
      "              {u'bill_id': u'hr2578-114',\n",
      "               u'breakdown': {u'total': {u'Nay': 146,\n",
      "                                         u'Not Voting': 4,\n",
      "                                         u'Present': 0,\n",
      "                                         u'Yea': 282}},\n",
      "               u'chamber': u'house'},\n",
      "              {u'bill_id': u'hr2578-114',\n",
      "               u'breakdown': {u'total': {u'Nay': 244,\n",
      "                                         u'Not Voting': 4,\n",
      "                                         u'Present': 0,\n",
      "                                         u'Yea': 184}},\n",
      "               u'chamber': u'house'},\n",
      "              {u'bill_id': u'hr2578-114',\n",
      "               u'breakdown': {u'total': {u'Nay': 399,\n",
      "                                         u'Not Voting': 5,\n",
      "                                         u'Present': 1,\n",
      "                                         u'Yea': 27}},\n",
      "               u'chamber': u'house'},\n",
      "              {u'bill_id': u'hr2578-114',\n",
      "               u'breakdown': {u'total': {u'Nay': 186,\n",
      "                                         u'Not Voting': 4,\n",
      "                                         u'Present': 0,\n",
      "                                         u'Yea': 242}},\n",
      "               u'chamber': u'house'},\n",
      "              {u'bill_id': u'hr2578-114',\n",
      "               u'breakdown': {u'total': {u'Nay': 182,\n",
      "                                         u'Not Voting': 5,\n",
      "                                         u'Present': 0,\n",
      "                                         u'Yea': 245}},\n",
      "               u'chamber': u'house'},\n",
      "              {u'bill_id': u'hr2578-114',\n",
      "               u'breakdown': {u'total': {u'Nay': 222,\n",
      "                                         u'Not Voting': 4,\n",
      "                                         u'Present': 0,\n",
      "                                         u'Yea': 206}},\n",
      "               u'chamber': u'house'},\n",
      "              {u'bill_id': u'hr2578-114',\n",
      "               u'breakdown': {u'total': {u'Nay': 130,\n",
      "                                         u'Not Voting': 5,\n",
      "                                         u'Present': 0,\n",
      "                                         u'Yea': 297}},\n",
      "               u'chamber': u'house'},\n",
      "              {u'bill_id': u'hr2578-114',\n",
      "               u'breakdown': {u'total': {u'Nay': 196,\n",
      "                                         u'Not Voting': 4,\n",
      "                                         u'Present': 0,\n",
      "                                         u'Yea': 232}},\n",
      "               u'chamber': u'house'},\n",
      "              {u'bill_id': u'hr2578-114',\n",
      "               u'breakdown': {u'total': {u'Nay': 263,\n",
      "                                         u'Not Voting': 15,\n",
      "                                         u'Present': 0,\n",
      "                                         u'Yea': 154}},\n",
      "               u'chamber': u'house'},\n",
      "              {u'bill_id': u'hr2578-114',\n",
      "               u'breakdown': {u'total': {u'Nay': 214,\n",
      "                                         u'Not Voting': 5,\n",
      "                                         u'Present': 0,\n",
      "                                         u'Yea': 213}},\n",
      "               u'chamber': u'house'},\n",
      "              {u'bill_id': u'hr2578-114',\n",
      "               u'breakdown': {u'total': {u'Nay': 10,\n",
      "                                         u'Not Voting': 5,\n",
      "                                         u'Present': 0,\n",
      "                                         u'Yea': 417}},\n",
      "               u'chamber': u'house'},\n",
      "              {u'bill_id': u'hr2578-114',\n",
      "               u'breakdown': {u'total': {u'Nay': 198,\n",
      "                                         u'Not Voting': 6,\n",
      "                                         u'Present': 0,\n",
      "                                         u'Yea': 228}},\n",
      "               u'chamber': u'house'},\n",
      "              {u'bill_id': u'hr2048-114',\n",
      "               u'breakdown': {u'total': {u'Nay': 32,\n",
      "                                         u'Not Voting': 1,\n",
      "                                         u'Present': 0,\n",
      "                                         u'Yea': 67}},\n",
      "               u'chamber': u'senate'},\n",
      "              {u'bill_id': u'hr2048-114',\n",
      "               u'breakdown': {u'total': {u'Nay': 56,\n",
      "                                         u'Not Voting': 2,\n",
      "                                         u'Present': 0,\n",
      "                                         u'Yea': 42}},\n",
      "               u'chamber': u'senate'},\n",
      "              {u'bill_id': u'hr2048-114',\n",
      "               u'breakdown': {u'total': {u'Nay': 54,\n",
      "                                         u'Not Voting': 2,\n",
      "                                         u'Present': 0,\n",
      "                                         u'Yea': 44}},\n",
      "               u'chamber': u'senate'},\n",
      "              {u'bill_id': u'hr2048-114',\n",
      "               u'breakdown': {u'total': {u'Nay': 56,\n",
      "                                         u'Not Voting': 1,\n",
      "                                         u'Present': 0,\n",
      "                                         u'Yea': 43}},\n",
      "               u'chamber': u'senate'},\n",
      "              {u'bill_id': u'hres287-114',\n",
      "               u'breakdown': {u'total': {u'Nay': 180,\n",
      "                                         u'Not Voting': 10,\n",
      "                                         u'Present': 0,\n",
      "                                         u'Yea': 242}},\n",
      "               u'chamber': u'house'},\n",
      "              {u'breakdown': {u'total': {u'Nay': 170,\n",
      "                                         u'Not Voting': 20,\n",
      "                                         u'Present': 2,\n",
      "                                         u'Yea': 240}},\n",
      "               u'chamber': u'house'}]}\n"
     ]
    }
   ],
   "source": [
    "pprint.pprint(data)"
   ]
  },
  {
   "cell_type": "code",
   "execution_count": 6,
   "metadata": {
    "collapsed": false
   },
   "outputs": [
    {
     "data": {
      "text/plain": [
       "[u'count', u'results', u'page']"
      ]
     },
     "execution_count": 6,
     "metadata": {},
     "output_type": "execute_result"
    }
   ],
   "source": [
    "data.keys()"
   ]
  },
  {
   "cell_type": "code",
   "execution_count": 7,
   "metadata": {
    "collapsed": false
   },
   "outputs": [
    {
     "data": {
      "text/plain": [
       "30"
      ]
     },
     "execution_count": 7,
     "metadata": {},
     "output_type": "execute_result"
    }
   ],
   "source": [
    "len(data['results'])"
   ]
  },
  {
   "cell_type": "code",
   "execution_count": 8,
   "metadata": {
    "collapsed": false
   },
   "outputs": [
    {
     "data": {
      "text/plain": [
       "[{u'bill_id': u'hr2578-114',\n",
       "  u'breakdown': {u'total': {u'Nay': 132,\n",
       "    u'Not Voting': 11,\n",
       "    u'Present': 0,\n",
       "    u'Yea': 289}},\n",
       "  u'chamber': u'house'},\n",
       " {u'bill_id': u'hr2578-114',\n",
       "  u'breakdown': {u'total': {u'Nay': 171,\n",
       "    u'Not Voting': 11,\n",
       "    u'Present': 0,\n",
       "    u'Yea': 250}},\n",
       "  u'chamber': u'house'},\n",
       " {u'bill_id': u'hr2578-114',\n",
       "  u'breakdown': {u'total': {u'Nay': 43,\n",
       "    u'Not Voting': 6,\n",
       "    u'Present': 0,\n",
       "    u'Yea': 383}},\n",
       "  u'chamber': u'house'},\n",
       " {u'bill_id': u'hr2578-114',\n",
       "  u'breakdown': {u'total': {u'Nay': 190,\n",
       "    u'Not Voting': 6,\n",
       "    u'Present': 0,\n",
       "    u'Yea': 236}},\n",
       "  u'chamber': u'house'},\n",
       " {u'bill_id': u'hr2578-114',\n",
       "  u'breakdown': {u'total': {u'Nay': 290,\n",
       "    u'Not Voting': 8,\n",
       "    u'Present': 0,\n",
       "    u'Yea': 134}},\n",
       "  u'chamber': u'house'},\n",
       " {u'bill_id': u'hr2578-114',\n",
       "  u'breakdown': {u'total': {u'Nay': 204,\n",
       "    u'Not Voting': 6,\n",
       "    u'Present': 0,\n",
       "    u'Yea': 222}},\n",
       "  u'chamber': u'house'},\n",
       " {u'bill_id': u'hr2578-114',\n",
       "  u'breakdown': {u'total': {u'Nay': 198,\n",
       "    u'Not Voting': 7,\n",
       "    u'Present': 0,\n",
       "    u'Yea': 227}},\n",
       "  u'chamber': u'house'},\n",
       " {u'bill_id': u'hr2578-114',\n",
       "  u'breakdown': {u'total': {u'Nay': 181,\n",
       "    u'Not Voting': 6,\n",
       "    u'Present': 0,\n",
       "    u'Yea': 245}},\n",
       "  u'chamber': u'house'},\n",
       " {u'bill_id': u'hr2578-114',\n",
       "  u'breakdown': {u'total': {u'Nay': 240,\n",
       "    u'Not Voting': 8,\n",
       "    u'Present': 0,\n",
       "    u'Yea': 184}},\n",
       "  u'chamber': u'house'},\n",
       " {u'bill_id': u'hr2578-114',\n",
       "  u'breakdown': {u'total': {u'Nay': 183,\n",
       "    u'Not Voting': 7,\n",
       "    u'Present': 0,\n",
       "    u'Yea': 242}},\n",
       "  u'chamber': u'house'},\n",
       " {u'bill_id': u'hr2578-114',\n",
       "  u'breakdown': {u'total': {u'Nay': 257,\n",
       "    u'Not Voting': 7,\n",
       "    u'Present': 0,\n",
       "    u'Yea': 168}},\n",
       "  u'chamber': u'house'},\n",
       " {u'bill_id': u'hr2578-114',\n",
       "  u'breakdown': {u'total': {u'Nay': 232,\n",
       "    u'Not Voting': 5,\n",
       "    u'Present': 0,\n",
       "    u'Yea': 195}},\n",
       "  u'chamber': u'house'},\n",
       " {u'bill_id': u'hr2578-114',\n",
       "  u'breakdown': {u'total': {u'Nay': 146,\n",
       "    u'Not Voting': 4,\n",
       "    u'Present': 0,\n",
       "    u'Yea': 282}},\n",
       "  u'chamber': u'house'},\n",
       " {u'bill_id': u'hr2578-114',\n",
       "  u'breakdown': {u'total': {u'Nay': 244,\n",
       "    u'Not Voting': 4,\n",
       "    u'Present': 0,\n",
       "    u'Yea': 184}},\n",
       "  u'chamber': u'house'},\n",
       " {u'bill_id': u'hr2578-114',\n",
       "  u'breakdown': {u'total': {u'Nay': 399,\n",
       "    u'Not Voting': 5,\n",
       "    u'Present': 1,\n",
       "    u'Yea': 27}},\n",
       "  u'chamber': u'house'},\n",
       " {u'bill_id': u'hr2578-114',\n",
       "  u'breakdown': {u'total': {u'Nay': 186,\n",
       "    u'Not Voting': 4,\n",
       "    u'Present': 0,\n",
       "    u'Yea': 242}},\n",
       "  u'chamber': u'house'},\n",
       " {u'bill_id': u'hr2578-114',\n",
       "  u'breakdown': {u'total': {u'Nay': 182,\n",
       "    u'Not Voting': 5,\n",
       "    u'Present': 0,\n",
       "    u'Yea': 245}},\n",
       "  u'chamber': u'house'},\n",
       " {u'bill_id': u'hr2578-114',\n",
       "  u'breakdown': {u'total': {u'Nay': 222,\n",
       "    u'Not Voting': 4,\n",
       "    u'Present': 0,\n",
       "    u'Yea': 206}},\n",
       "  u'chamber': u'house'},\n",
       " {u'bill_id': u'hr2578-114',\n",
       "  u'breakdown': {u'total': {u'Nay': 130,\n",
       "    u'Not Voting': 5,\n",
       "    u'Present': 0,\n",
       "    u'Yea': 297}},\n",
       "  u'chamber': u'house'},\n",
       " {u'bill_id': u'hr2578-114',\n",
       "  u'breakdown': {u'total': {u'Nay': 196,\n",
       "    u'Not Voting': 4,\n",
       "    u'Present': 0,\n",
       "    u'Yea': 232}},\n",
       "  u'chamber': u'house'},\n",
       " {u'bill_id': u'hr2578-114',\n",
       "  u'breakdown': {u'total': {u'Nay': 263,\n",
       "    u'Not Voting': 15,\n",
       "    u'Present': 0,\n",
       "    u'Yea': 154}},\n",
       "  u'chamber': u'house'},\n",
       " {u'bill_id': u'hr2578-114',\n",
       "  u'breakdown': {u'total': {u'Nay': 214,\n",
       "    u'Not Voting': 5,\n",
       "    u'Present': 0,\n",
       "    u'Yea': 213}},\n",
       "  u'chamber': u'house'},\n",
       " {u'bill_id': u'hr2578-114',\n",
       "  u'breakdown': {u'total': {u'Nay': 10,\n",
       "    u'Not Voting': 5,\n",
       "    u'Present': 0,\n",
       "    u'Yea': 417}},\n",
       "  u'chamber': u'house'},\n",
       " {u'bill_id': u'hr2578-114',\n",
       "  u'breakdown': {u'total': {u'Nay': 198,\n",
       "    u'Not Voting': 6,\n",
       "    u'Present': 0,\n",
       "    u'Yea': 228}},\n",
       "  u'chamber': u'house'},\n",
       " {u'bill_id': u'hr2048-114',\n",
       "  u'breakdown': {u'total': {u'Nay': 32,\n",
       "    u'Not Voting': 1,\n",
       "    u'Present': 0,\n",
       "    u'Yea': 67}},\n",
       "  u'chamber': u'senate'},\n",
       " {u'bill_id': u'hr2048-114',\n",
       "  u'breakdown': {u'total': {u'Nay': 56,\n",
       "    u'Not Voting': 2,\n",
       "    u'Present': 0,\n",
       "    u'Yea': 42}},\n",
       "  u'chamber': u'senate'},\n",
       " {u'bill_id': u'hr2048-114',\n",
       "  u'breakdown': {u'total': {u'Nay': 54,\n",
       "    u'Not Voting': 2,\n",
       "    u'Present': 0,\n",
       "    u'Yea': 44}},\n",
       "  u'chamber': u'senate'},\n",
       " {u'bill_id': u'hr2048-114',\n",
       "  u'breakdown': {u'total': {u'Nay': 56,\n",
       "    u'Not Voting': 1,\n",
       "    u'Present': 0,\n",
       "    u'Yea': 43}},\n",
       "  u'chamber': u'senate'},\n",
       " {u'bill_id': u'hres287-114',\n",
       "  u'breakdown': {u'total': {u'Nay': 180,\n",
       "    u'Not Voting': 10,\n",
       "    u'Present': 0,\n",
       "    u'Yea': 242}},\n",
       "  u'chamber': u'house'},\n",
       " {u'breakdown': {u'total': {u'Nay': 170,\n",
       "    u'Not Voting': 20,\n",
       "    u'Present': 2,\n",
       "    u'Yea': 240}},\n",
       "  u'chamber': u'house'}]"
      ]
     },
     "execution_count": 8,
     "metadata": {},
     "output_type": "execute_result"
    }
   ],
   "source": [
    "data[u'results']"
   ]
  },
  {
   "cell_type": "code",
   "execution_count": 9,
   "metadata": {
    "collapsed": false
   },
   "outputs": [
    {
     "data": {
      "text/plain": [
       "30"
      ]
     },
     "execution_count": 9,
     "metadata": {},
     "output_type": "execute_result"
    }
   ],
   "source": [
    "len(data[u'results'])"
   ]
  },
  {
   "cell_type": "code",
   "execution_count": 10,
   "metadata": {
    "collapsed": false
   },
   "outputs": [
    {
     "data": {
      "text/plain": [
       "{u'bill_id': u'hr2578-114',\n",
       " u'breakdown': {u'total': {u'Nay': 132,\n",
       "   u'Not Voting': 11,\n",
       "   u'Present': 0,\n",
       "   u'Yea': 289}},\n",
       " u'chamber': u'house'}"
      ]
     },
     "execution_count": 10,
     "metadata": {},
     "output_type": "execute_result"
    }
   ],
   "source": [
    "data['results'][0]"
   ]
  },
  {
   "cell_type": "code",
   "execution_count": null,
   "metadata": {
    "collapsed": true
   },
   "outputs": [],
   "source": []
  },
  {
   "cell_type": "code",
   "execution_count": null,
   "metadata": {
    "collapsed": true
   },
   "outputs": [],
   "source": []
  }
 ],
 "metadata": {
  "kernelspec": {
   "display_name": "Python 2",
   "language": "python",
   "name": "python2"
  },
  "language_info": {
   "codemirror_mode": {
    "name": "ipython",
    "version": 2
   },
   "file_extension": ".py",
   "mimetype": "text/x-python",
   "name": "python",
   "nbconvert_exporter": "python",
   "pygments_lexer": "ipython2",
   "version": "2.7.10"
  }
 },
 "nbformat": 4,
 "nbformat_minor": 0
}
