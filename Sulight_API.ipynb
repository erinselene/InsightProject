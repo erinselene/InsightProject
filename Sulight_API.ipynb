{
 "cells": [
  {
   "cell_type": "code",
   "execution_count": 883,
   "metadata": {
    "collapsed": false
   },
   "outputs": [],
   "source": [
    "import requests\n",
    "from pprint import pprint\n",
    "import json\n",
    "import numpy as np\n",
    "import pandas as pd\n",
    "import sklearn as sk\n",
    "from sunlight import congress\n",
    "from sunlight.pagination import PagingService\n",
    "import pymysql as mdb\n",
    "from pandas.io import sql\n",
    "import cPickle as pickle\n",
    "import re\n",
    "import matplotlib.pyplot as plt\n",
    "%matplotlib inline"
   ]
  },
  {
   "cell_type": "code",
   "execution_count": 719,
   "metadata": {
    "collapsed": true
   },
   "outputs": [],
   "source": [
    "paging_service = PagingService(congress)"
   ]
  },
  {
   "cell_type": "code",
   "execution_count": 720,
   "metadata": {
    "collapsed": false
   },
   "outputs": [],
   "source": [
    "votes = paging_service.votes(fields='chamber,bill_id,breakdown.total,question,required,voted_at',vote_type='passage',limit=10000)\n",
    "#file = open('Votes','r')\n",
    "#votes = pickle.load(file)\n",
    "#file.close()"
   ]
  },
  {
   "cell_type": "code",
   "execution_count": 721,
   "metadata": {
    "collapsed": false
   },
   "outputs": [],
   "source": [
    "votes = pd.DataFrame.from_dict(votes)\n",
    "votes = votes[votes.question.str.contains('Passage')]"
   ]
  },
  {
   "cell_type": "code",
   "execution_count": 722,
   "metadata": {
    "collapsed": true
   },
   "outputs": [],
   "source": [
    "votes['yeas'] = np.zeros(len(votes))\n",
    "votes['nays'] = np.zeros(len(votes))\n",
    "votes['no_votes'] = np.zeros(len(votes))\n",
    "votes['split'] = np.zeros(len(votes))"
   ]
  },
  {
   "cell_type": "code",
   "execution_count": 723,
   "metadata": {
    "collapsed": false
   },
   "outputs": [
    {
     "name": "stderr",
     "output_type": "stream",
     "text": [
      "/Users/erinboyle/anaconda/lib/python2.7/site-packages/IPython/kernel/__main__.py:2: SettingWithCopyWarning: \n",
      "A value is trying to be set on a copy of a slice from a DataFrame\n",
      "\n",
      "See the the caveats in the documentation: http://pandas.pydata.org/pandas-docs/stable/indexing.html#indexing-view-versus-copy\n",
      "  from IPython.kernel.zmq import kernelapp as app\n",
      "/Users/erinboyle/anaconda/lib/python2.7/site-packages/IPython/kernel/__main__.py:3: SettingWithCopyWarning: \n",
      "A value is trying to be set on a copy of a slice from a DataFrame\n",
      "\n",
      "See the the caveats in the documentation: http://pandas.pydata.org/pandas-docs/stable/indexing.html#indexing-view-versus-copy\n",
      "  app.launch_new_instance()\n",
      "/Users/erinboyle/anaconda/lib/python2.7/site-packages/IPython/kernel/__main__.py:4: SettingWithCopyWarning: \n",
      "A value is trying to be set on a copy of a slice from a DataFrame\n",
      "\n",
      "See the the caveats in the documentation: http://pandas.pydata.org/pandas-docs/stable/indexing.html#indexing-view-versus-copy\n",
      "/Users/erinboyle/anaconda/lib/python2.7/site-packages/IPython/kernel/__main__.py:5: SettingWithCopyWarning: \n",
      "A value is trying to be set on a copy of a slice from a DataFrame\n",
      "\n",
      "See the the caveats in the documentation: http://pandas.pydata.org/pandas-docs/stable/indexing.html#indexing-view-versus-copy\n"
     ]
    }
   ],
   "source": [
    "for i in votes.index: \n",
    "    votes['yeas'][i] = votes['breakdown'][i]['total']['Yea']\n",
    "    votes['nays'][i] = votes['breakdown'][i]['total']['Nay']\n",
    "    votes['no_votes'][i] = votes['breakdown'][i]['total']['Not Voting']\n",
    "    votes['split'][i] = votes['yeas'][i]/(votes['yeas'][i]+votes['nays'][i])"
   ]
  },
  {
   "cell_type": "code",
   "execution_count": 724,
   "metadata": {
    "collapsed": true
   },
   "outputs": [],
   "source": [
    "votes = votes.drop('breakdown',1)"
   ]
  },
  {
   "cell_type": "code",
   "execution_count": 725,
   "metadata": {
    "collapsed": false
   },
   "outputs": [
    {
     "data": {
      "text/html": [
       "<div style=\"max-height:1000px;max-width:1500px;overflow:auto;\">\n",
       "<table border=\"1\" class=\"dataframe\">\n",
       "  <thead>\n",
       "    <tr style=\"text-align: right;\">\n",
       "      <th></th>\n",
       "      <th>bill_id</th>\n",
       "      <th>chamber</th>\n",
       "      <th>question</th>\n",
       "      <th>required</th>\n",
       "      <th>voted_at</th>\n",
       "      <th>yeas</th>\n",
       "      <th>nays</th>\n",
       "      <th>no_votes</th>\n",
       "      <th>split</th>\n",
       "    </tr>\n",
       "  </thead>\n",
       "  <tbody>\n",
       "    <tr>\n",
       "      <th>0</th>\n",
       "      <td>hr2578-114</td>\n",
       "      <td>house</td>\n",
       "      <td>On Passage</td>\n",
       "      <td>1/2</td>\n",
       "      <td>2015-06-03T23:05:00Z</td>\n",
       "      <td>242</td>\n",
       "      <td>183</td>\n",
       "      <td>7</td>\n",
       "      <td>0.569412</td>\n",
       "    </tr>\n",
       "  </tbody>\n",
       "</table>\n",
       "</div>"
      ],
      "text/plain": [
       "      bill_id chamber    question required              voted_at  yeas  nays  \\\n",
       "0  hr2578-114   house  On Passage      1/2  2015-06-03T23:05:00Z   242   183   \n",
       "\n",
       "   no_votes     split  \n",
       "0         7  0.569412  "
      ]
     },
     "execution_count": 725,
     "metadata": {},
     "output_type": "execute_result"
    }
   ],
   "source": [
    "votes.head(1)"
   ]
  },
  {
   "cell_type": "code",
   "execution_count": 729,
   "metadata": {
    "collapsed": false
   },
   "outputs": [
    {
     "data": {
      "text/plain": [
       "(63, 524)"
      ]
     },
     "execution_count": 729,
     "metadata": {},
     "output_type": "execute_result"
    }
   ],
   "source": [
    "len(votes[np.abs(votes.split-.5)<.05]), len(votes)"
   ]
  },
  {
   "cell_type": "code",
   "execution_count": 731,
   "metadata": {
    "collapsed": true
   },
   "outputs": [
    {
     "data": {
      "text/plain": [
       "(0        hr2578-114\n",
       " 1        hr2048-114\n",
       " 3        hr1335-114\n",
       " 4        hr1314-114\n",
       " 5        hr2262-114\n",
       " 7        hr1806-114\n",
       " 8         hr880-114\n",
       " 10       hr2250-114\n",
       " 11       hr2353-114\n",
       " 17       hr1735-114\n",
       " 21       hr1295-114\n",
       " 22        hr644-114\n",
       " 23         hr36-114\n",
       " 24       hr2048-114\n",
       " 27       hr1732-114\n",
       " 30       hr1191-114\n",
       " 32       hr2028-114\n",
       " 34      hjres43-114\n",
       " 35       hr2029-114\n",
       " 41       hr1731-114\n",
       " 42         s178-114\n",
       " 43       hr1560-114\n",
       " 45       hr1195-114\n",
       " 47        hr622-114\n",
       " 48       hr1105-114\n",
       " 52          hr2-114\n",
       " 53        hr650-114\n",
       " 54        hr685-114\n",
       " 60          hr2-114\n",
       " 67       sjres8-114\n",
       "            ...     \n",
       " 2204       s679-112\n",
       " 2206     hr2055-112\n",
       " 2207     hr1249-112\n",
       " 2208     hr2887-112\n",
       " 2209     hr2832-112\n",
       " 2210      s1619-112\n",
       " 2211     hr3080-112\n",
       " 2212     hr3079-112\n",
       " 2213     hr3078-112\n",
       " 2214     hr2112-112\n",
       " 2215      hr674-112\n",
       " 2217      s1867-112\n",
       " 2221     hr3672-112\n",
       " 2224      s2038-112\n",
       " 2227      s1813-112\n",
       " 2228     hr3606-112\n",
       " 2229      s1789-112\n",
       " 2230      s1925-112\n",
       " 2231     hr2072-112\n",
       " 2232      s3187-112\n",
       " 2233      s2343-112\n",
       " 2234      s3240-112\n",
       " 2236      s3412-112\n",
       " 2237      s3576-112\n",
       " 2240      s3254-112\n",
       " 2241     hr6156-112\n",
       " 2243     hr5949-112\n",
       " 2244        hr1-112\n",
       " 2245        hr8-112\n",
       " 2250      hr152-113\n",
       " Name: bill_id, dtype: object, 0      hr2644-114\n",
       " 1      hr2643-114\n",
       " 2      hr2642-114\n",
       " 3      hr2641-114\n",
       " 4      hr2640-114\n",
       " 5      hr2639-114\n",
       " 6      hr2638-114\n",
       " 7      hr2637-114\n",
       " 8      hr2636-114\n",
       " 9      hr2635-114\n",
       " 10     hr2634-114\n",
       " 11     hr2633-114\n",
       " 12     hr2632-114\n",
       " 13     hr2631-114\n",
       " 14     hr2630-114\n",
       " 15     hr2629-114\n",
       " 16     hr2628-114\n",
       " 17     hr2627-114\n",
       " 18     hr2626-114\n",
       " 19     hr2625-114\n",
       " 20     hr2624-114\n",
       " 21     hr2623-114\n",
       " 22    hres297-114\n",
       " 23    hres296-114\n",
       " 24    hres295-114\n",
       " 25    hres294-114\n",
       " 26    hres293-114\n",
       " 27    hres292-114\n",
       " 28      s1501-114\n",
       " 29      s1500-114\n",
       " 30      s1499-114\n",
       " 31      s1498-114\n",
       " 32      s1497-114\n",
       " 33      s1496-114\n",
       " 34      s1495-114\n",
       " 35      s1494-114\n",
       " 36      s1493-114\n",
       " 37      s1492-114\n",
       " 38      s1491-114\n",
       " 39      s1490-114\n",
       " 40      s1489-114\n",
       " 41      s1488-114\n",
       " 42      s1487-114\n",
       " 43    sres191-114\n",
       " 44    sres190-114\n",
       " 45     hr2622-114\n",
       " 46     hr2621-114\n",
       " 47     hr2620-114\n",
       " 48     hr2619-114\n",
       " 49     hr2618-114\n",
       " Name: bill_id, dtype: object)"
      ]
     },
     "execution_count": 731,
     "metadata": {},
     "output_type": "execute_result"
    }
   ],
   "source": [
    "votes.bill_id, bills.bill_id"
   ]
  },
  {
   "cell_type": "code",
   "execution_count": 786,
   "metadata": {
    "collapsed": true
   },
   "outputs": [],
   "source": [
    "bills = paging_service.bills(fields='bill_id,bill_type,last_action_at,official_title,short_title,popular_title,nicknames,keywords,summary,summary_short,history.active_at,sponsor_id,cosponsor_ids,cosponsors_count,withdrawn_cosponsor_ids,withdrawn_cosponsors_count,committee_ids,related_bill_ids',limit=50000)\n",
    "bills = pd.DataFrame.from_dict(bills)\n",
    "#file = open('InitialBillsDF','r')\n",
    "#initialbills = pickle.load(file)\n",
    "#file.close()"
   ]
  },
  {
   "cell_type": "code",
   "execution_count": 788,
   "metadata": {
    "collapsed": true
   },
   "outputs": [],
   "source": [
    "file = open('InitialBillsDF','w')\n",
    "pickle.dump(bills, file)\n",
    "file.close()"
   ]
  },
  {
   "cell_type": "code",
   "execution_count": 792,
   "metadata": {
    "collapsed": false
   },
   "outputs": [],
   "source": [
    "file = open('Votes','w')\n",
    "pickle.dump(votes, file)\n",
    "file.close()"
   ]
  },
  {
   "cell_type": "code",
   "execution_count": 797,
   "metadata": {
    "collapsed": false
   },
   "outputs": [
    {
     "data": {
      "text/plain": [
       "(41366, Index([                   u'bill_id',                  u'bill_type',\n",
       "                     u'committee_ids',              u'cosponsor_ids',\n",
       "                  u'cosponsors_count',                    u'history',\n",
       "                          u'keywords',             u'last_action_at',\n",
       "                         u'nicknames',             u'official_title',\n",
       "                     u'popular_title',           u'related_bill_ids',\n",
       "                       u'short_title',                 u'sponsor_id',\n",
       "                           u'summary',              u'summary_short',\n",
       "           u'withdrawn_cosponsor_ids', u'withdrawn_cosponsors_count'],\n",
       "       dtype='object'))"
      ]
     },
     "execution_count": 797,
     "metadata": {},
     "output_type": "execute_result"
    }
   ],
   "source": [
    "len(bills), bills.columns"
   ]
  },
  {
   "cell_type": "code",
   "execution_count": 815,
   "metadata": {
    "collapsed": false
   },
   "outputs": [
    {
     "data": {
      "text/html": [
       "<div style=\"max-height:1000px;max-width:1500px;overflow:auto;\">\n",
       "<table border=\"1\" class=\"dataframe\">\n",
       "  <thead>\n",
       "    <tr style=\"text-align: right;\">\n",
       "      <th></th>\n",
       "      <th>bill_id</th>\n",
       "      <th>bill_type</th>\n",
       "      <th>cosponsors_count</th>\n",
       "      <th>history</th>\n",
       "      <th>last_action_at</th>\n",
       "      <th>nicknames</th>\n",
       "      <th>official_title</th>\n",
       "      <th>popular_title</th>\n",
       "      <th>short_title</th>\n",
       "      <th>sponsor_id</th>\n",
       "      <th>...</th>\n",
       "      <th>W000796</th>\n",
       "      <th>W000797</th>\n",
       "      <th>W000800</th>\n",
       "      <th>W000802</th>\n",
       "      <th>W000807</th>\n",
       "      <th>W000809</th>\n",
       "      <th>W000813</th>\n",
       "      <th>W000820</th>\n",
       "      <th>Y000031</th>\n",
       "      <th>Y000033</th>\n",
       "    </tr>\n",
       "  </thead>\n",
       "  <tbody>\n",
       "    <tr>\n",
       "      <th>0</th>\n",
       "      <td>hr2644-114</td>\n",
       "      <td>hr</td>\n",
       "      <td>0</td>\n",
       "      <td>{}</td>\n",
       "      <td>2015-06-03</td>\n",
       "      <td>NaN</td>\n",
       "      <td>To expedite certain forest management activiti...</td>\n",
       "      <td>None</td>\n",
       "      <td>None</td>\n",
       "      <td>Z000018</td>\n",
       "      <td>...</td>\n",
       "      <td>0</td>\n",
       "      <td>0</td>\n",
       "      <td>0</td>\n",
       "      <td>0</td>\n",
       "      <td>0</td>\n",
       "      <td>0</td>\n",
       "      <td>0</td>\n",
       "      <td>0</td>\n",
       "      <td>0</td>\n",
       "      <td>0</td>\n",
       "    </tr>\n",
       "  </tbody>\n",
       "</table>\n",
       "<p>1 rows × 21144 columns</p>\n",
       "</div>"
      ],
      "text/plain": [
       "      bill_id bill_type  cosponsors_count history last_action_at nicknames  \\\n",
       "0  hr2644-114        hr                 0      {}     2015-06-03       NaN   \n",
       "\n",
       "                                      official_title popular_title  \\\n",
       "0  To expedite certain forest management activiti...          None   \n",
       "\n",
       "  short_title sponsor_id   ...    W000796 W000797  W000800  W000802  W000807  \\\n",
       "0        None    Z000018   ...          0       0        0        0        0   \n",
       "\n",
       "   W000809  W000813  W000820  Y000031  Y000033  \n",
       "0        0        0        0        0        0  \n",
       "\n",
       "[1 rows x 21144 columns]"
      ]
     },
     "execution_count": 815,
     "metadata": {},
     "output_type": "execute_result"
    }
   ],
   "source": [
    "bills.head(1)"
   ]
  },
  {
   "cell_type": "code",
   "execution_count": 837,
   "metadata": {
    "collapsed": false
   },
   "outputs": [],
   "source": [
    "bills['bill_id'] = bills['bill_id'].str.replace(r'h.*[a-z]','h')\n",
    "bills['bill_id'] = bills['bill_id'].str.replace(r's.*[a-z]','s') \n",
    "\n",
    "#bills.bill_id.replace(to_replace=r'h.*[a-z]',value='h',regex=True,inplace=True)\n",
    "#bills.bill_id.replace(to_replace=r's.*[a-z]',value='s',regex=True,inplace=True)\n",
    "\n",
    "#for bill_id in bills.bill_id: \n",
    "#    bill_id = re.sub('h.*[a-z]','h',bill_id)\n",
    "#    bill_id = re.sub('s.*[a-z]','s',bill_id)\n",
    "#bills.bill_id.head(30)"
   ]
  },
  {
   "cell_type": "code",
   "execution_count": 799,
   "metadata": {
    "collapsed": true
   },
   "outputs": [],
   "source": [
    "# It would be cool to do this part below by in general checking for the type of a column to be a list and then doing the operation. But don't know how to generalize column name that way.\n",
    "# Maybe this should be an inner join eventually to eliminate votes without bill info and vice versa\n",
    "bills = pd.concat([bills, bills['committee_ids'].str.join(sep=', ').str.get_dummies(sep=', ')], axis=1, join='outer')\n",
    "bills = pd.concat([bills, bills['cosponsor_ids'].str.join(sep=', ').str.get_dummies(sep=', ')], axis=1, join='outer')\n",
    "bills = pd.concat([bills, bills['related_bill_ids'].str.join(sep=', ').str.get_dummies(sep=', ')], axis=1, join='outer')\n",
    "bills = pd.concat([bills, bills['keywords'].str.join(sep=', ').str.get_dummies(sep=', ')], axis=1, join='outer')\n",
    "bills = pd.concat([bills, bills['withdrawn_cosponsor_ids'].str.join(sep=', ').str.get_dummies(sep=', ')], axis=1, join='outer')\n",
    "bills = bills.drop(['committee_ids','cosponsor_ids','related_bill_ids','keywords','withdrawn_cosponsor_ids'],1)"
   ]
  },
  {
   "cell_type": "code",
   "execution_count": 839,
   "metadata": {
    "collapsed": true
   },
   "outputs": [],
   "source": [
    "file = open('Bills_Reformatted','w')\n",
    "pickle.dump(bills, file)\n",
    "file.close()"
   ]
  },
  {
   "cell_type": "code",
   "execution_count": 802,
   "metadata": {
    "collapsed": false
   },
   "outputs": [
    {
     "data": {
      "text/plain": [
       "21144"
      ]
     },
     "execution_count": 802,
     "metadata": {},
     "output_type": "execute_result"
    }
   ],
   "source": [
    "len(bills.columns)"
   ]
  },
  {
   "cell_type": "code",
   "execution_count": 842,
   "metadata": {
    "collapsed": true
   },
   "outputs": [],
   "source": [
    "votes['bill_id'] = votes['bill_id'].str.replace(r'h.*[a-z]','h')\n",
    "votes['bill_id'] = votes['bill_id'].str.replace(r's.*[a-z]','s') "
   ]
  },
  {
   "cell_type": "code",
   "execution_count": 844,
   "metadata": {
    "collapsed": false
   },
   "outputs": [],
   "source": [
    "#complete = bills.join(votes, on=['bill_id', 'bill_id']) # Wants the match to be complete..?\n",
    "complete = bills.merge(votes, left_on =\"bill_id\", right_on =\"bill_id\")"
   ]
  },
  {
   "cell_type": "code",
   "execution_count": 845,
   "metadata": {
    "collapsed": false,
    "scrolled": true
   },
   "outputs": [],
   "source": [
    "file = open('Votes_Reformatted','w')\n",
    "pickle.dump(votes, file)\n",
    "file.close()"
   ]
  },
  {
   "cell_type": "code",
   "execution_count": 822,
   "metadata": {
    "collapsed": false
   },
   "outputs": [
    {
     "data": {
      "text/plain": [
       "524"
      ]
     },
     "execution_count": 822,
     "metadata": {},
     "output_type": "execute_result"
    }
   ],
   "source": [
    "len(votes)"
   ]
  },
  {
   "cell_type": "code",
   "execution_count": null,
   "metadata": {
    "collapsed": false
   },
   "outputs": [],
   "source": [
    "#con = mdb.connect('localhost', 'root', 'reepicheep', 'testdb')\n",
    "#with con:\n",
    "#   cur = con.cursor()\n",
    "#   cur.execute(\"DROP TABLE IF EXISTS BillVotes\")\n",
    "#   sql.write_frame(complete, con=con, name='BillVotes', if_exists='replace', flavor='mysql')\n",
    "    #cur.execute(\"CREATE TABLE BillVotes(Id INT PRIMARY KEY AUTO_INCREMENT,Name VARCHAR(25))\")\n",
    "    #cur.execute(\"INSERT INTO Writers(Name) VALUES('Jack London')\")"
   ]
  },
  {
   "cell_type": "code",
   "execution_count": 652,
   "metadata": {
    "collapsed": false,
    "scrolled": true
   },
   "outputs": [
    {
     "name": "stdout",
     "output_type": "stream",
     "text": [
      "2251\n"
     ]
    }
   ],
   "source": [
    "print(len(list(paging_service.votes(fields='chamber',vote_type='passage',limit=50000))))"
   ]
  },
  {
   "cell_type": "code",
   "execution_count": 711,
   "metadata": {
    "collapsed": true
   },
   "outputs": [],
   "source": [
    "#con = mdb.connect('localhost', 'root', 'reepicheep', 'testdb')"
   ]
  },
  {
   "cell_type": "code",
   "execution_count": null,
   "metadata": {
    "collapsed": false,
    "scrolled": true
   },
   "outputs": [],
   "source": [
    "#with con:\n",
    "#    cur = con.cursor()\n",
    "#    cur.execute('create table if not exists bills')\n",
    "#    sql.write_frame(bills, con=con, name='Bills', if_exists = 'replace', flavor='mysql')"
   ]
  },
  {
   "cell_type": "code",
   "execution_count": 846,
   "metadata": {
    "collapsed": false,
    "scrolled": true
   },
   "outputs": [],
   "source": [
    "file = open('InitialBillsDF','r')\n",
    "initialbills = pickle.load(file)\n",
    "file.close()\n",
    "initialbills['bill_id'] = initialbills['bill_id'].str.replace(r'h.*[a-z]','h')\n",
    "initialbills['bill_id'] = initialbills['bill_id'].str.replace(r's.*[a-z]','s') "
   ]
  },
  {
   "cell_type": "code",
   "execution_count": 847,
   "metadata": {
    "collapsed": true
   },
   "outputs": [],
   "source": [
    "file = open('InitialBills_IDformatted','w')\n",
    "pickle.dump(initialbills, file)\n",
    "file.close()"
   ]
  },
  {
   "cell_type": "code",
   "execution_count": 848,
   "metadata": {
    "collapsed": true
   },
   "outputs": [],
   "source": [
    "fewerparams = initialbills.merge(votes, left_on =\"bill_id\", right_on =\"bill_id\")\n",
    "file = open('Merged_fewer_params','w')\n",
    "pickle.dump(fewerparams, file)\n",
    "file.close()"
   ]
  },
  {
   "cell_type": "code",
   "execution_count": 855,
   "metadata": {
    "collapsed": false
   },
   "outputs": [
    {
     "data": {
      "text/plain": [
       "810"
      ]
     },
     "execution_count": 855,
     "metadata": {},
     "output_type": "execute_result"
    }
   ],
   "source": [
    "len(fewerparams)"
   ]
  },
  {
   "cell_type": "code",
   "execution_count": 868,
   "metadata": {
    "collapsed": false
   },
   "outputs": [
    {
     "name": "stdout",
     "output_type": "stream",
     "text": [
      "114 111\n",
      "114 111\n"
     ]
    }
   ],
   "source": [
    "maxx = 0\n",
    "minn = 1000\n",
    "for bill in votes['bill_id']:\n",
    "    if int(bill[-3:]) > maxx:\n",
    "        maxx = int(bill[-3:])\n",
    "    if int(bill[-3:]) < minn:\n",
    "        minn = int(bill[-3:])\n",
    "print maxx, minn\n",
    "maxx = 0\n",
    "minn = 1000\n",
    "for bill in bills['bill_id']:\n",
    "    if int(bill[-3:]) > maxx:\n",
    "        maxx = int(bill[-3:])\n",
    "    if int(bill[-3:]) < minn:\n",
    "        minn = int(bill[-3:])\n",
    "print maxx, minn"
   ]
  },
  {
   "cell_type": "code",
   "execution_count": null,
   "metadata": {
    "collapsed": true
   },
   "outputs": [],
   "source": [
    "#fig = plt.figure()\n",
    "#colors = ['b','b','b','b','b','b','b','b','b','r','r','b','b','b','b','b','b','b','b','b']\n",
    "histdat = fewerparams.split"
   ]
  },
  {
   "cell_type": "code",
   "execution_count": 1000,
   "metadata": {
    "collapsed": false,
    "scrolled": true
   },
   "outputs": [
    {
     "data": {
      "text/plain": [
       "pandas.core.series.Series"
      ]
     },
     "execution_count": 1000,
     "metadata": {},
     "output_type": "execute_result"
    }
   ],
   "source": [
    "type(histdat)"
   ]
  },
  {
   "cell_type": "code",
   "execution_count": 1001,
   "metadata": {
    "collapsed": true
   },
   "outputs": [],
   "source": [
    "fs = 20\n",
    "dpi = 250"
   ]
  },
  {
   "cell_type": "code",
   "execution_count": 1086,
   "metadata": {
    "collapsed": false
   },
   "outputs": [
    {
     "name": "stdout",
     "output_type": "stream",
     "text": [
      "<class 'pandas.core.series.Series'> <class 'pandas.core.series.Series'>\n"
     ]
    },
    {
     "data": {
      "text/plain": [
       "(array([  23.,  321.]),\n",
       " array([ 0.43062201,  0.51507681,  0.59953162]),\n",
       " <a list of 2 Patch objects>)"
      ]
     },
     "execution_count": 1086,
     "metadata": {},
     "output_type": "execute_result"
    },
    {
     "data": {
      "image/png": "[encoded data removed]",
      "text/plain": [
       "<matplotlib.figure.Figure at 0x16efe9b50>"
      ]
     },
     "metadata": {},
     "output_type": "display_data"
    }
   ],
   "source": [
    "subset = histdat[histdat<.6] #[histdat < .55]\n",
    "subset = subset[subset>.4]\n",
    "print type(histdat), type(subset)\n",
    "plt.figure()\n",
    "plt.hist(subset, bins=2) #, color='red')"
   ]
  },
  {
   "cell_type": "code",
   "execution_count": 1063,
   "metadata": {
    "collapsed": false
   },
   "outputs": [
    {
     "ename": "KeyError",
     "evalue": "0",
     "output_type": "error",
     "traceback": [
      "\u001b[0;31m---------------------------------------------------------------------------\u001b[0m",
      "\u001b[0;31mKeyError\u001b[0m                                  Traceback (most recent call last)",
      "\u001b[0;32m<ipython-input-1063-dc44227cdf6a>\u001b[0m in \u001b[0;36m<module>\u001b[0;34m()\u001b[0m\n\u001b[1;32m      1\u001b[0m \u001b[0msubset\u001b[0m \u001b[0;34m=\u001b[0m \u001b[0mhistdat\u001b[0m\u001b[0;34m[\u001b[0m\u001b[0mhistdat\u001b[0m \u001b[0;34m<\u001b[0m \u001b[0;36m.55\u001b[0m\u001b[0;34m]\u001b[0m\u001b[0;34m\u001b[0m\u001b[0m\n\u001b[1;32m      2\u001b[0m \u001b[0msubset\u001b[0m \u001b[0;34m=\u001b[0m \u001b[0msubset\u001b[0m\u001b[0;34m[\u001b[0m\u001b[0msubset\u001b[0m\u001b[0;34m>\u001b[0m\u001b[0;36m.45\u001b[0m\u001b[0;34m]\u001b[0m\u001b[0;34m\u001b[0m\u001b[0m\n\u001b[0;32m----> 3\u001b[0;31m \u001b[0mplt\u001b[0m\u001b[0;34m.\u001b[0m\u001b[0mhist\u001b[0m\u001b[0;34m(\u001b[0m\u001b[0msubset\u001b[0m\u001b[0;34m,\u001b[0m \u001b[0mbins\u001b[0m\u001b[0;34m=\u001b[0m\u001b[0;36m2\u001b[0m\u001b[0;34m,\u001b[0m \u001b[0mcolor\u001b[0m\u001b[0;34m=\u001b[0m\u001b[0;34m'red'\u001b[0m\u001b[0;34m)\u001b[0m\u001b[0;34m\u001b[0m\u001b[0m\n\u001b[0m\u001b[1;32m      4\u001b[0m \u001b[0;34m\u001b[0m\u001b[0m\n\u001b[1;32m      5\u001b[0m \u001b[0mplt\u001b[0m\u001b[0;34m.\u001b[0m\u001b[0mhist\u001b[0m\u001b[0;34m(\u001b[0m\u001b[0mhistdat\u001b[0m\u001b[0;34m,\u001b[0m\u001b[0mbins\u001b[0m\u001b[0;34m=\u001b[0m\u001b[0;36m20\u001b[0m\u001b[0;34m)\u001b[0m\u001b[0;34m\u001b[0m\u001b[0m\n",
      "\u001b[0;32m/Users/erinboyle/anaconda/lib/python2.7/site-packages/matplotlib/pyplot.pyc\u001b[0m in \u001b[0;36mhist\u001b[0;34m(x, bins, range, normed, weights, cumulative, bottom, histtype, align, orientation, rwidth, log, color, label, stacked, hold, **kwargs)\u001b[0m\n\u001b[1;32m   2888\u001b[0m                       \u001b[0mhisttype\u001b[0m\u001b[0;34m=\u001b[0m\u001b[0mhisttype\u001b[0m\u001b[0;34m,\u001b[0m \u001b[0malign\u001b[0m\u001b[0;34m=\u001b[0m\u001b[0malign\u001b[0m\u001b[0;34m,\u001b[0m \u001b[0morientation\u001b[0m\u001b[0;34m=\u001b[0m\u001b[0morientation\u001b[0m\u001b[0;34m,\u001b[0m\u001b[0;34m\u001b[0m\u001b[0m\n\u001b[1;32m   2889\u001b[0m                       \u001b[0mrwidth\u001b[0m\u001b[0;34m=\u001b[0m\u001b[0mrwidth\u001b[0m\u001b[0;34m,\u001b[0m \u001b[0mlog\u001b[0m\u001b[0;34m=\u001b[0m\u001b[0mlog\u001b[0m\u001b[0;34m,\u001b[0m \u001b[0mcolor\u001b[0m\u001b[0;34m=\u001b[0m\u001b[0mcolor\u001b[0m\u001b[0;34m,\u001b[0m \u001b[0mlabel\u001b[0m\u001b[0;34m=\u001b[0m\u001b[0mlabel\u001b[0m\u001b[0;34m,\u001b[0m\u001b[0;34m\u001b[0m\u001b[0m\n\u001b[0;32m-> 2890\u001b[0;31m                       stacked=stacked, **kwargs)\n\u001b[0m\u001b[1;32m   2891\u001b[0m         \u001b[0mdraw_if_interactive\u001b[0m\u001b[0;34m(\u001b[0m\u001b[0;34m)\u001b[0m\u001b[0;34m\u001b[0m\u001b[0m\n\u001b[1;32m   2892\u001b[0m     \u001b[0;32mfinally\u001b[0m\u001b[0;34m:\u001b[0m\u001b[0;34m\u001b[0m\u001b[0m\n",
      "\u001b[0;32m/Users/erinboyle/anaconda/lib/python2.7/site-packages/matplotlib/axes/_axes.pyc\u001b[0m in \u001b[0;36mhist\u001b[0;34m(self, x, bins, range, normed, weights, cumulative, bottom, histtype, align, orientation, rwidth, log, color, label, stacked, **kwargs)\u001b[0m\n\u001b[1;32m   5560\u001b[0m         \u001b[0;31m# Massage 'x' for processing.\u001b[0m\u001b[0;34m\u001b[0m\u001b[0;34m\u001b[0m\u001b[0m\n\u001b[1;32m   5561\u001b[0m         \u001b[0;31m# NOTE: Be sure any changes here is also done below to 'weights'\u001b[0m\u001b[0;34m\u001b[0m\u001b[0;34m\u001b[0m\u001b[0m\n\u001b[0;32m-> 5562\u001b[0;31m         \u001b[0;32mif\u001b[0m \u001b[0misinstance\u001b[0m\u001b[0;34m(\u001b[0m\u001b[0mx\u001b[0m\u001b[0;34m,\u001b[0m \u001b[0mnp\u001b[0m\u001b[0;34m.\u001b[0m\u001b[0mndarray\u001b[0m\u001b[0;34m)\u001b[0m \u001b[0;32mor\u001b[0m \u001b[0;32mnot\u001b[0m \u001b[0miterable\u001b[0m\u001b[0;34m(\u001b[0m\u001b[0mx\u001b[0m\u001b[0;34m[\u001b[0m\u001b[0;36m0\u001b[0m\u001b[0;34m]\u001b[0m\u001b[0;34m)\u001b[0m\u001b[0;34m:\u001b[0m\u001b[0;34m\u001b[0m\u001b[0m\n\u001b[0m\u001b[1;32m   5563\u001b[0m             \u001b[0;31m# TODO: support masked arrays;\u001b[0m\u001b[0;34m\u001b[0m\u001b[0;34m\u001b[0m\u001b[0m\n\u001b[1;32m   5564\u001b[0m             \u001b[0mx\u001b[0m \u001b[0;34m=\u001b[0m \u001b[0mnp\u001b[0m\u001b[0;34m.\u001b[0m\u001b[0masarray\u001b[0m\u001b[0;34m(\u001b[0m\u001b[0mx\u001b[0m\u001b[0;34m)\u001b[0m\u001b[0;34m\u001b[0m\u001b[0m\n",
      "\u001b[0;32m/Users/erinboyle/anaconda/lib/python2.7/site-packages/pandas/core/series.pyc\u001b[0m in \u001b[0;36m__getitem__\u001b[0;34m(self, key)\u001b[0m\n\u001b[1;32m    517\u001b[0m     \u001b[0;32mdef\u001b[0m \u001b[0m__getitem__\u001b[0m\u001b[0;34m(\u001b[0m\u001b[0mself\u001b[0m\u001b[0;34m,\u001b[0m \u001b[0mkey\u001b[0m\u001b[0;34m)\u001b[0m\u001b[0;34m:\u001b[0m\u001b[0;34m\u001b[0m\u001b[0m\n\u001b[1;32m    518\u001b[0m         \u001b[0;32mtry\u001b[0m\u001b[0;34m:\u001b[0m\u001b[0;34m\u001b[0m\u001b[0m\n\u001b[0;32m--> 519\u001b[0;31m             \u001b[0mresult\u001b[0m \u001b[0;34m=\u001b[0m \u001b[0mself\u001b[0m\u001b[0;34m.\u001b[0m\u001b[0mindex\u001b[0m\u001b[0;34m.\u001b[0m\u001b[0mget_value\u001b[0m\u001b[0;34m(\u001b[0m\u001b[0mself\u001b[0m\u001b[0;34m,\u001b[0m \u001b[0mkey\u001b[0m\u001b[0;34m)\u001b[0m\u001b[0;34m\u001b[0m\u001b[0m\n\u001b[0m\u001b[1;32m    520\u001b[0m \u001b[0;34m\u001b[0m\u001b[0m\n\u001b[1;32m    521\u001b[0m             \u001b[0;32mif\u001b[0m \u001b[0;32mnot\u001b[0m \u001b[0mnp\u001b[0m\u001b[0;34m.\u001b[0m\u001b[0misscalar\u001b[0m\u001b[0;34m(\u001b[0m\u001b[0mresult\u001b[0m\u001b[0;34m)\u001b[0m\u001b[0;34m:\u001b[0m\u001b[0;34m\u001b[0m\u001b[0m\n",
      "\u001b[0;32m/Users/erinboyle/anaconda/lib/python2.7/site-packages/pandas/core/index.pyc\u001b[0m in \u001b[0;36mget_value\u001b[0;34m(self, series, key)\u001b[0m\n\u001b[1;32m   1599\u001b[0m \u001b[0;34m\u001b[0m\u001b[0m\n\u001b[1;32m   1600\u001b[0m         \u001b[0;32mtry\u001b[0m\u001b[0;34m:\u001b[0m\u001b[0;34m\u001b[0m\u001b[0m\n\u001b[0;32m-> 1601\u001b[0;31m             \u001b[0;32mreturn\u001b[0m \u001b[0mself\u001b[0m\u001b[0;34m.\u001b[0m\u001b[0m_engine\u001b[0m\u001b[0;34m.\u001b[0m\u001b[0mget_value\u001b[0m\u001b[0;34m(\u001b[0m\u001b[0ms\u001b[0m\u001b[0;34m,\u001b[0m \u001b[0mk\u001b[0m\u001b[0;34m)\u001b[0m\u001b[0;34m\u001b[0m\u001b[0m\n\u001b[0m\u001b[1;32m   1602\u001b[0m         \u001b[0;32mexcept\u001b[0m \u001b[0mKeyError\u001b[0m \u001b[0;32mas\u001b[0m \u001b[0me1\u001b[0m\u001b[0;34m:\u001b[0m\u001b[0;34m\u001b[0m\u001b[0m\n\u001b[1;32m   1603\u001b[0m             \u001b[0;32mif\u001b[0m \u001b[0mlen\u001b[0m\u001b[0;34m(\u001b[0m\u001b[0mself\u001b[0m\u001b[0;34m)\u001b[0m \u001b[0;34m>\u001b[0m \u001b[0;36m0\u001b[0m \u001b[0;32mand\u001b[0m \u001b[0mself\u001b[0m\u001b[0;34m.\u001b[0m\u001b[0minferred_type\u001b[0m \u001b[0;32min\u001b[0m \u001b[0;34m[\u001b[0m\u001b[0;34m'integer'\u001b[0m\u001b[0;34m,\u001b[0m\u001b[0;34m'boolean'\u001b[0m\u001b[0;34m]\u001b[0m\u001b[0;34m:\u001b[0m\u001b[0;34m\u001b[0m\u001b[0m\n",
      "\u001b[0;32mpandas/index.pyx\u001b[0m in \u001b[0;36mpandas.index.IndexEngine.get_value (pandas/index.c:3113)\u001b[0;34m()\u001b[0m\n",
      "\u001b[0;32mpandas/index.pyx\u001b[0m in \u001b[0;36mpandas.index.IndexEngine.get_value (pandas/index.c:2844)\u001b[0;34m()\u001b[0m\n",
      "\u001b[0;32mpandas/index.pyx\u001b[0m in \u001b[0;36mpandas.index.IndexEngine.get_loc (pandas/index.c:3704)\u001b[0;34m()\u001b[0m\n",
      "\u001b[0;32mpandas/hashtable.pyx\u001b[0m in \u001b[0;36mpandas.hashtable.Int64HashTable.get_item (pandas/hashtable.c:7255)\u001b[0;34m()\u001b[0m\n",
      "\u001b[0;32mpandas/hashtable.pyx\u001b[0m in \u001b[0;36mpandas.hashtable.Int64HashTable.get_item (pandas/hashtable.c:7193)\u001b[0;34m()\u001b[0m\n",
      "\u001b[0;31mKeyError\u001b[0m: 0"
     ]
    },
    {
     "data": {
      "image/png": "[encoded data removed]",
      "text/plain": [
       "<matplotlib.figure.Figure at 0x158fc8a90>"
      ]
     },
     "metadata": {},
     "output_type": "display_data"
    }
   ],
   "source": [
    "plt.hist(histdat,bins=20)\n",
    "#fig = fewerparams.hist(column='split',bins=20) #,color=colors)\n",
    "plt.xlabel('% Yeas', fontsize = fs)\n",
    "plt.ylabel('Frequency', fontsize = fs)\n",
    "#fig[9].set_color('r')\n",
    "closecalls = (len(histdat[np.abs(histdat-.5)<.05])/np.float(len(histdat)))\n",
    "plt.title('All bills: Close calls = '+str(int(np.round(closecalls,2)*100))+'%', fontsize = fs)\n",
    "plt.hold(True)\n",
    "\n",
    "#bins = np.linspace(0, 1, 21)\n",
    "#digitized = np.digitize(histdat, bins)\n",
    "#closeones = [len(digitized[digitized==10]),len(digitized[digitized==11])]\n",
    "\n",
    "#plt.savefig(\"Histograms/AllBills.png\", dpi=dpi)"
   ]
  },
  {
   "cell_type": "code",
   "execution_count": 1042,
   "metadata": {
    "collapsed": false
   },
   "outputs": [
    {
     "data": {
      "image/png": "[encoded data removed]",
      "text/plain": [
       "<matplotlib.figure.Figure at 0x16c810fd0>"
      ]
     },
     "metadata": {},
     "output_type": "display_data"
    }
   ],
   "source": [
    "barlist=plt.bar([1,2,3,4], [1,2,3,4])\n",
    "barlist[0].set_color('r')\n",
    "plt.show()"
   ]
  },
  {
   "cell_type": "code",
   "execution_count": 1041,
   "metadata": {
    "collapsed": false
   },
   "outputs": [],
   "source": [
    "bins = np.linspace(0, 1, 21)\n",
    "digitized = np.digitize(histdat, bins)\n",
    "closeones = [len(digitized[digitized==10]),len(digitized[digitized==11])]"
   ]
  },
  {
   "cell_type": "code",
   "execution_count": null,
   "metadata": {
    "collapsed": false
   },
   "outputs": [],
   "source": [
    "barlist=plt.bar(bins,digitized)\n",
    "barlist[0].set_color('r')\n",
    "plt.show()"
   ]
  },
  {
   "cell_type": "code",
   "execution_count": 913,
   "metadata": {
    "collapsed": false
   },
   "outputs": [
    {
     "data": {
      "text/plain": [
       "Index([                   u'bill_id',                  u'bill_type',\n",
       "                    u'committee_ids',              u'cosponsor_ids',\n",
       "                 u'cosponsors_count',                    u'history',\n",
       "                         u'keywords',             u'last_action_at',\n",
       "                        u'nicknames',             u'official_title',\n",
       "                    u'popular_title',           u'related_bill_ids',\n",
       "                      u'short_title',                 u'sponsor_id',\n",
       "                          u'summary',              u'summary_short',\n",
       "          u'withdrawn_cosponsor_ids', u'withdrawn_cosponsors_count',\n",
       "                          u'chamber',                   u'question',\n",
       "                         u'required',                   u'voted_at',\n",
       "                             u'yeas',                       u'nays',\n",
       "                         u'no_votes',                      u'split'],\n",
       "      dtype='object')"
      ]
     },
     "execution_count": 913,
     "metadata": {},
     "output_type": "execute_result"
    }
   ],
   "source": [
    "fewerparams.columns"
   ]
  },
  {
   "cell_type": "code",
   "execution_count": 915,
   "metadata": {
    "collapsed": false
   },
   "outputs": [],
   "source": [
    "fewerparams = pd.concat([fewerparams, fewerparams['keywords'].str.join(sep=', ').str.get_dummies(sep=', ')], axis=1, join='outer')"
   ]
  },
  {
   "cell_type": "code",
   "execution_count": 941,
   "metadata": {
    "collapsed": false
   },
   "outputs": [
    {
     "name": "stdout",
     "output_type": "stream",
     "text": [
      "47 50 38 27 53 11\n"
     ]
    }
   ],
   "source": [
    "volunteer = fewerparams[fewerparams['volunteer service']==1]\n",
    "weapons = fewerparams[fewerparams['weapons development']==1]\n",
    "trees = fewerparams[fewerparams['trees']==1]\n",
    "abortion = fewerparams[fewerparams['Abortion']==1]\n",
    "climate = fewerparams[fewerparams['Climate change and greenhouse gases']==1]\n",
    "cdc = fewerparams[fewerparams['Centers for Disease Control and Prevention (CDC)']==1]\n",
    "print len(volunteer),len(weapons),len(trees),len(abortion),len(climate),len(cdc)"
   ]
  },
  {
   "cell_type": "code",
   "execution_count": 991,
   "metadata": {
    "collapsed": true
   },
   "outputs": [],
   "source": []
  },
  {
   "cell_type": "code",
   "execution_count": 1003,
   "metadata": {
    "collapsed": false
   },
   "outputs": [
    {
     "data": {
      "image/png": "[encoded data removed]",
      "text/plain": [
       "<matplotlib.figure.Figure at 0x140a40f90>"
      ]
     },
     "metadata": {},
     "output_type": "display_data"
    }
   ],
   "source": [
    "fig = volunteer.hist(column='split',bins=np.arange(0,1.05,.05)) #,color=colors)\n",
    "plt.xlabel('% Yeas', fontsize = fs)\n",
    "plt.ylabel('Frequency', fontsize = fs)\n",
    "closecalls = (len(volunteer[np.abs(volunteer.split-.5)<.05])/np.float(len(volunteer)))\n",
    "plt.title('Volunteer Bills: Close calls = '+str(int(np.round(closecalls,2)*100))+'%', fontsize = fs)\n",
    "plt.savefig(\"Histograms/Volunteer.png\", dpi=dpi)"
   ]
  },
  {
   "cell_type": "code",
   "execution_count": 1004,
   "metadata": {
    "collapsed": false,
    "scrolled": false
   },
   "outputs": [
    {
     "data": {
      "image/png": "[encoded data removed]",
      "text/plain": [
       "<matplotlib.figure.Figure at 0x17324b2d0>"
      ]
     },
     "metadata": {},
     "output_type": "display_data"
    }
   ],
   "source": [
    "fig = weapons.hist(column='split',bins=np.arange(0,1.05,.05)) #,color=colors)\n",
    "plt.xlabel('% Yeas', fontsize = fs)\n",
    "plt.ylabel('Frequency', fontsize = fs)\n",
    "closecalls = (len(weapons[np.abs(weapons.split-.5)<.05])/np.float(len(weapons)))\n",
    "plt.title('Weapons Bills: Close calls = '+str(int(np.round(closecalls,2)*100))+'%', fontsize = fs)\n",
    "plt.savefig(\"Histograms/Weapons.png\", dpi=dpi)"
   ]
  },
  {
   "cell_type": "code",
   "execution_count": 1005,
   "metadata": {
    "collapsed": false
   },
   "outputs": [
    {
     "data": {
      "image/png": "[encoded data removed]",
      "text/plain": [
       "<matplotlib.figure.Figure at 0x16d699f50>"
      ]
     },
     "metadata": {},
     "output_type": "display_data"
    }
   ],
   "source": [
    "fig = abortion.hist(column='split',bins=np.arange(0,1.05,.05)) #,color=colors)\n",
    "plt.xlabel('% Yeas', fontsize = fs)\n",
    "plt.ylabel('Frequency', fontsize = fs)\n",
    "closecalls = (len(abortion[np.abs(abortion.split-.5)<.05])/np.float(len(abortion)))\n",
    "plt.title('Abortion Bills: Close calls = '+str(int(np.round(closecalls,2)*100))+'%', fontsize = fs)\n",
    "plt.savefig(\"Histograms/Abortion.png\", dpi=dpi)"
   ]
  },
  {
   "cell_type": "code",
   "execution_count": 1006,
   "metadata": {
    "collapsed": false
   },
   "outputs": [
    {
     "data": {
      "image/png": "[encoded data removed]",
      "text/plain": [
       "<matplotlib.figure.Figure at 0x1725e7290>"
      ]
     },
     "metadata": {},
     "output_type": "display_data"
    }
   ],
   "source": [
    "fig = climate.hist(column='split',bins=np.arange(0,1.05,.05)) #,color=colors)\n",
    "plt.xlabel('% Yeas', fontsize = fs)\n",
    "plt.ylabel('Frequency', fontsize = fs)\n",
    "closecalls = (len(climate[np.abs(climate.split-.5)<.05])/np.float(len(climate)))\n",
    "plt.title('Climate Bills: Close calls = '+str(int(np.round(closecalls,2)*100))+'%', fontsize = fs)\n",
    "plt.savefig(\"Histograms/Climate.png\", dpi=dpi)"
   ]
  },
  {
   "cell_type": "code",
   "execution_count": 1007,
   "metadata": {
    "collapsed": false
   },
   "outputs": [
    {
     "data": {
      "image/png": "[encoded data removed]",
      "text/plain": [
       "<matplotlib.figure.Figure at 0x170caccd0>"
      ]
     },
     "metadata": {},
     "output_type": "display_data"
    }
   ],
   "source": [
    "fig = cdc.hist(column='split',bins=np.arange(0,1.05,.05)) #,color=colors)\n",
    "plt.xlabel('% Yeas', fontsize = fs)\n",
    "plt.ylabel('Frequency', fontsize = fs)\n",
    "closecalls = (len(cdc[np.abs(cdc.split-.5)<.05])/np.float(len(cdc)))\n",
    "plt.title('CDC Bills: Close calls = '+str(int(np.round(closecalls,2)*100))+'%', fontsize = fs)\n",
    "plt.savefig(\"Histograms/CDC.png\", dpi=dpi)"
   ]
  },
  {
   "cell_type": "code",
   "execution_count": 1008,
   "metadata": {
    "collapsed": false
   },
   "outputs": [
    {
     "data": {
      "image/png": "[encoded data removed]",
      "text/plain": [
       "<matplotlib.figure.Figure at 0x16ed41490>"
      ]
     },
     "metadata": {},
     "output_type": "display_data"
    }
   ],
   "source": [
    "fig = trees.hist(column='split',bins=np.arange(0,1.05,.05)) #,color=colors)\n",
    "plt.xlabel('% Yeas', fontsize = fs)\n",
    "plt.ylabel('Frequency', fontsize = fs)\n",
    "closecalls = (len(trees[np.abs(trees.split-.5)<.05])/np.float(len(trees)))\n",
    "plt.title('Trees Bills: Close calls = '+str(int(np.round(closecalls,2)*100))+'%', fontsize = fs)\n",
    "plt.savefig(\"Histograms/Trees.png\", dpi=dpi)"
   ]
  },
  {
   "cell_type": "code",
   "execution_count": 1010,
   "metadata": {
    "collapsed": false
   },
   "outputs": [
    {
     "data": {
      "text/html": [
       "<div style=\"max-height:1000px;max-width:1500px;overflow:auto;\">\n",
       "<table border=\"1\" class=\"dataframe\">\n",
       "  <thead>\n",
       "    <tr style=\"text-align: right;\">\n",
       "      <th></th>\n",
       "      <th>bill_id</th>\n",
       "      <th>bill_type</th>\n",
       "      <th>cosponsors_count</th>\n",
       "      <th>history</th>\n",
       "      <th>last_action_at</th>\n",
       "      <th>nicknames</th>\n",
       "      <th>official_title</th>\n",
       "      <th>popular_title</th>\n",
       "      <th>short_title</th>\n",
       "      <th>sponsor_id</th>\n",
       "      <th>...</th>\n",
       "      <th>W000796</th>\n",
       "      <th>W000797</th>\n",
       "      <th>W000800</th>\n",
       "      <th>W000802</th>\n",
       "      <th>W000807</th>\n",
       "      <th>W000809</th>\n",
       "      <th>W000813</th>\n",
       "      <th>W000820</th>\n",
       "      <th>Y000031</th>\n",
       "      <th>Y000033</th>\n",
       "    </tr>\n",
       "  </thead>\n",
       "  <tbody>\n",
       "    <tr>\n",
       "      <th>0</th>\n",
       "      <td>h2644-114</td>\n",
       "      <td>hr</td>\n",
       "      <td>0</td>\n",
       "      <td>{}</td>\n",
       "      <td>2015-06-03</td>\n",
       "      <td>NaN</td>\n",
       "      <td>To expedite certain forest management activiti...</td>\n",
       "      <td>None</td>\n",
       "      <td>None</td>\n",
       "      <td>Z000018</td>\n",
       "      <td>...</td>\n",
       "      <td>0</td>\n",
       "      <td>0</td>\n",
       "      <td>0</td>\n",
       "      <td>0</td>\n",
       "      <td>0</td>\n",
       "      <td>0</td>\n",
       "      <td>0</td>\n",
       "      <td>0</td>\n",
       "      <td>0</td>\n",
       "      <td>0</td>\n",
       "    </tr>\n",
       "  </tbody>\n",
       "</table>\n",
       "<p>1 rows × 21144 columns</p>\n",
       "</div>"
      ],
      "text/plain": [
       "     bill_id bill_type  cosponsors_count history last_action_at nicknames  \\\n",
       "0  h2644-114        hr                 0      {}     2015-06-03       NaN   \n",
       "\n",
       "                                      official_title popular_title  \\\n",
       "0  To expedite certain forest management activiti...          None   \n",
       "\n",
       "  short_title sponsor_id   ...    W000796 W000797  W000800  W000802  W000807  \\\n",
       "0        None    Z000018   ...          0       0        0        0        0   \n",
       "\n",
       "   W000809  W000813  W000820  Y000031  Y000033  \n",
       "0        0        0        0        0        0  \n",
       "\n",
       "[1 rows x 21144 columns]"
      ]
     },
     "execution_count": 1010,
     "metadata": {},
     "output_type": "execute_result"
    }
   ],
   "source": [
    "bills.head(1)"
   ]
  },
  {
   "cell_type": "code",
   "execution_count": 1023,
   "metadata": {
    "collapsed": false
   },
   "outputs": [
    {
     "name": "stdout",
     "output_type": "stream",
     "text": [
      "Index([         u'bill_id',        u'bill_type', u'cosponsors_count',\n",
      "                u'history',   u'last_action_at',        u'nicknames',\n",
      "         u'official_title',    u'popular_title',      u'short_title',\n",
      "             u'sponsor_id', \n",
      "       ...\n",
      "                u'W000796',          u'W000797',          u'W000800',\n",
      "                u'W000802',          u'W000807',          u'W000809',\n",
      "                u'W000813',          u'W000820',          u'Y000031',\n",
      "                u'Y000033'],\n",
      "      dtype='object', length=21144)\n"
     ]
    }
   ],
   "source": [
    "print bills.columns\n",
    "titl = bills['official_title'][41361:41362]"
   ]
  },
  {
   "cell_type": "code",
   "execution_count": 1024,
   "metadata": {
    "collapsed": false
   },
   "outputs": [
    {
     "name": "stdout",
     "output_type": "stream",
     "text": [
      "41361    A bill to reform schools and give America's ch...\n",
      "Name: official_title, dtype: object\n"
     ]
    }
   ],
   "source": [
    "print titl"
   ]
  },
  {
   "cell_type": "code",
   "execution_count": 1022,
   "metadata": {
    "collapsed": false
   },
   "outputs": [
    {
     "data": {
      "text/plain": [
       "1"
      ]
     },
     "execution_count": 1022,
     "metadata": {},
     "output_type": "execute_result"
    }
   ],
   "source": [
    "len(titl)"
   ]
  },
  {
   "cell_type": "code",
   "execution_count": 1025,
   "metadata": {
    "collapsed": true
   },
   "outputs": [],
   "source": [
    "billsbillsbills = paging_service.bills(fields='bill_id,bill_type,last_action_at,official_title,short_title,popular_title,nicknames,keywords,summary,summary_short,history.active_at,sponsor_id,cosponsor_ids,cosponsors_count,withdrawn_cosponsor_ids,withdrawn_cosponsors_count,committee_ids,related_bill_ids',limit=50000)"
   ]
  },
  {
   "cell_type": "code",
   "execution_count": null,
   "metadata": {
    "collapsed": false
   },
   "outputs": [],
   "source": []
  },
  {
   "cell_type": "code",
   "execution_count": null,
   "metadata": {
    "collapsed": true
   },
   "outputs": [],
   "source": []
  }
 ],
 "metadata": {
  "kernelspec": {
   "display_name": "Python 2",
   "language": "python",
   "name": "python2"
  },
  "language_info": {
   "codemirror_mode": {
    "name": "ipython",
    "version": 2
   },
   "file_extension": ".py",
   "mimetype": "text/x-python",
   "name": "python",
   "nbconvert_exporter": "python",
   "pygments_lexer": "ipython2",
   "version": "2.7.10"
  }
 },
 "nbformat": 4,
 "nbformat_minor": 0
}
